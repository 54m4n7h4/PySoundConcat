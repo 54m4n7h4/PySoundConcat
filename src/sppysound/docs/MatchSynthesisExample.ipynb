{
 "cells": [
  {
   "cell_type": "markdown",
   "metadata": {},
   "source": [
    "## Synthesizing output from matches"
   ]
  },
  {
   "cell_type": "code",
   "execution_count": 1,
   "metadata": {
    "collapsed": true
   },
   "outputs": [],
   "source": [
    "from sppysound.database import AudioDatabase, Synthesizer\n",
    "import synthesis_config"
   ]
  },
  {
   "cell_type": "code",
   "execution_count": 2,
   "metadata": {
    "collapsed": true
   },
   "outputs": [],
   "source": [
    "source_dir = \"./ExampleDatabase\"\n",
    "target_dir = \"./ExampleTarget\"\n",
    "output_dir = \"./ExampleOutput\""
   ]
  },
  {
   "cell_type": "markdown",
   "metadata": {},
   "source": [
    "Load source database.\n",
    "Also load the F0, RMS and Peak analyses for use with amplitude and pitch enforcement."
   ]
  },
  {
   "cell_type": "code",
   "execution_count": 3,
   "metadata": {
    "collapsed": true
   },
   "outputs": [],
   "source": [
    "source_database = AudioDatabase(\n",
    "    source_dir,\n",
    "    config=synthesis_config,\n",
    "    analysis_list={\"f0\", \"rms\", \"peak\"}\n",
    ")\n",
    "source_database.load_database(reanalyse=False)"
   ]
  },
  {
   "cell_type": "markdown",
   "metadata": {},
   "source": [
    "Load database used to generate matches to source database. \n",
    "This is used when enforcing analyses such as RMS and F0. (Original grains are needed to calculate the ratio to alter the synthesized grain by)"
   ]
  },
  {
   "cell_type": "code",
   "execution_count": 4,
   "metadata": {
    "collapsed": false
   },
   "outputs": [],
   "source": [
    "target_database = AudioDatabase(\n",
    "    target_dir,\n",
    "    config=synthesis_config,\n",
    "    analysis_list={\"f0\", \"rms\", \"peak\"}\n",
    ")\n",
    "target_database.load_database(reanalyse=False)\n",
    "\n",
    "output_database = AudioDatabase(\n",
    "    output_dir,\n",
    "    config=synthesis_config\n",
    ")\n",
    "output_database.load_database(reanalyse=False)"
   ]
  },
  {
   "cell_type": "markdown",
   "metadata": {},
   "source": [
    "Initialise the synthesizer object used for generating the final output."
   ]
  },
  {
   "cell_type": "code",
   "execution_count": 5,
   "metadata": {
    "collapsed": false
   },
   "outputs": [],
   "source": [
    "synthesizer = Synthesizer(source_database, output_database, target_db=target_database, config=synthesis_config)"
   ]
  },
  {
   "cell_type": "markdown",
   "metadata": {},
   "source": [
    "Run synthesis. As with the matching, warnings may be generated. These have all been accounted for and will be silenced in a future release. The output audio can now be found in the audio folder of ./ExampleOutput"
   ]
  },
  {
   "cell_type": "code",
   "execution_count": 6,
   "metadata": {
    "collapsed": false,
    "scrolled": true
   },
   "outputs": [
    {
     "name": "stderr",
     "output_type": "stream",
     "text": [
      "/Users/sam/PerryPerrySource/pysource/pysound/src/sppysound/audiofile.py:665: FutureWarning: comparison to `None` will result in an elementwise object comparison in the future.\n",
      "  if self.times == None:\n",
      "/Users/sam/PerryPerrySource/pysource/pysound/src/sppysound/audiofile.py:297: UserWarning: write_frames::warning::audio data has been clipped while writing to file ./.shift_input.wav.\n",
      "  return self.pysndfile_object.write_frames(input)\n",
      "/Users/sam/.pyenv/versions/2.7.10/lib/python2.7/site-packages/numpy/core/_methods.py:59: RuntimeWarning: Mean of empty slice.\n",
      "  warnings.warn(\"Mean of empty slice.\", RuntimeWarning)\n",
      "/Users/sam/.pyenv/versions/2.7.10/lib/python2.7/site-packages/numpy/core/_methods.py:71: RuntimeWarning: invalid value encountered in double_scalars\n",
      "  ret = ret.dtype.type(ret / rcount)\n"
     ]
    }
   ],
   "source": [
    "synthesizer.synthesize()"
   ]
  },
  {
   "cell_type": "markdown",
   "metadata": {},
   "source": [
    "The synthesis_config.py file for this demo is:\n",
    "\n",
    "~~~python\n",
    "rms = {\n",
    "    \"window_size\": 100,\n",
    "    \"overlap\": 2,\n",
    "}\n",
    "\n",
    "analysis_dict = {\n",
    "    \"f0\": \"log2_median\",\n",
    "    \"rms\": \"mean\"\n",
    "}\n",
    "\n",
    "analysis = {\n",
    "    \"reanalyse\": False\n",
    "}\n",
    "\n",
    "output_file = {\n",
    "    \"samplerate\": 44100,\n",
    "    \"format\": 131075,\n",
    "    \"channels\": 1\n",
    "}\n",
    "\n",
    "synthesizer = {\n",
    "    \"enforce_rms\": True,\n",
    "    \"enf_rms_ratio_limit\": 5.,\n",
    "    \"enforce_f0\": True,\n",
    "    \"enf_f0_ratio_limit\": 10.,\n",
    "    \"grain_size\": 100,\n",
    "    \"overlap\": 2,\n",
    "    \"normalize\" : True,\n",
    "    # Defines the number of potential grains to choose from matches when\n",
    "    # synthesizing output.\n",
    "    \"match_quantity\": 20\n",
    "}\n",
    "~~~"
   ]
  }
 ],
 "metadata": {
  "kernelspec": {
   "display_name": "Python 2",
   "language": "python",
   "name": "python2"
  },
  "language_info": {
   "codemirror_mode": {
    "name": "ipython",
    "version": 2
   },
   "file_extension": ".py",
   "mimetype": "text/x-python",
   "name": "python",
   "nbconvert_exporter": "python",
   "pygments_lexer": "ipython2",
   "version": "2.7.10"
  }
 },
 "nbformat": 4,
 "nbformat_minor": 0
}
